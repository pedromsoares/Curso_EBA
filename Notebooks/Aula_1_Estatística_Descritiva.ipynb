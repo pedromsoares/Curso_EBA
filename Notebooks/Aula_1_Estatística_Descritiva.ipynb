{
  "nbformat": 4,
  "nbformat_minor": 0,
  "metadata": {
    "colab": {
      "provenance": [],
      "authorship_tag": "ABX9TyO7wO5mer9tqMPujySqyhZS",
      "include_colab_link": true
    },
    "kernelspec": {
      "name": "python3",
      "display_name": "Python 3"
    },
    "language_info": {
      "name": "python"
    }
  },
  "cells": [
    {
      "cell_type": "markdown",
      "metadata": {
        "id": "view-in-github",
        "colab_type": "text"
      },
      "source": [
        "<a href=\"https://colab.research.google.com/github/pedromsoares/Curso_EBA/blob/main/Notebooks/Aula_1_Estat%C3%ADstica_Descritiva.ipynb\" target=\"_parent\"><img src=\"https://colab.research.google.com/assets/colab-badge.svg\" alt=\"Open In Colab\"/></a>"
      ]
    },
    {
      "cell_type": "markdown",
      "source": [
        "# ESTATÍSTICA DESCRITIVA"
      ],
      "metadata": {
        "id": "XTaC90H6B-2T"
      }
    },
    {
      "cell_type": "markdown",
      "source": [
        "É um ramo da matemática que estuda os dados, sem distinção da origem dos mesmos. A estatística desenvolve métodos de estudo para coletar, analisar, interpretar e apresentar os dados.\n",
        "\n",
        "Estatítica Descritiva - Resume os dados\n",
        "\n",
        "Inferência Estatítica\n",
        "\n",
        "*   Probabilidade - Tudo que tange a incerteza\n",
        "*   Teste de Hipótese - Afirmações perante o cenário de incerteza\n"
      ],
      "metadata": {
        "id": "ht5pvcwrCHAK"
      }
    },
    {
      "cell_type": "markdown",
      "source": [
        "## TIPOS DE DADOS\n",
        "\n",
        "**Dados Numéricos (Quantitativos)** - Podem ser discretos como número de filhos, número de casas, etc (são número inteiros, não podem ser fracionados) ou podem ser Contínuos. Dados Contínuos são dados que podem ser espressos de forma fracionária e trtazem uma ideia de continuidade (salário, altura)\n",
        "\n",
        "**Dados Categóricos (Qualitativos)** - São dados que expressam uma classificação. Eles podem ser nominais (profissão, sexo) ou ordinais (escolaridade, ranking)"
      ],
      "metadata": {
        "id": "Gb9jg_WtE9Wa"
      }
    },
    {
      "cell_type": "code",
      "execution_count": null,
      "metadata": {
        "id": "i8v8JnreB2Eg"
      },
      "outputs": [],
      "source": []
    }
  ]
}