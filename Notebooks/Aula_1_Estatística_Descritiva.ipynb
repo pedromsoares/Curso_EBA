{
  "nbformat": 4,
  "nbformat_minor": 0,
  "metadata": {
    "colab": {
      "provenance": [],
      "authorship_tag": "ABX9TyMECilbsDzVNKN+rVxSyymC",
      "include_colab_link": true
    },
    "kernelspec": {
      "name": "python3",
      "display_name": "Python 3"
    },
    "language_info": {
      "name": "python"
    }
  },
  "cells": [
    {
      "cell_type": "markdown",
      "metadata": {
        "id": "view-in-github",
        "colab_type": "text"
      },
      "source": [
        "<a href=\"https://colab.research.google.com/github/pedromsoares/Curso_EBA/blob/main/Notebooks/Aula_1_Estat%C3%ADstica_Descritiva.ipynb\" target=\"_parent\"><img src=\"https://colab.research.google.com/assets/colab-badge.svg\" alt=\"Open In Colab\"/></a>"
      ]
    },
    {
      "cell_type": "markdown",
      "source": [
        "# **AULA 1 - ESTATÍSTICA DESCRITIVA**"
      ],
      "metadata": {
        "id": "l8vSOlD0hDhY"
      }
    }
  ]
}